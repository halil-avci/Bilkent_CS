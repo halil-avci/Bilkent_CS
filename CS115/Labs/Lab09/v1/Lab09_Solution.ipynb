{
 "cells": [
  {
   "cell_type": "code",
   "execution_count": null,
   "id": "47ce0b1b",
   "metadata": {},
   "outputs": [],
   "source": [
    "# CS115 Lab 09 Questions"
   ]
  },
  {
   "cell_type": "markdown",
   "id": "8277cf2a",
   "metadata": {},
   "source": [
    "## *Question 01*"
   ]
  },
  {
   "cell_type": "markdown",
   "id": "65673d59",
   "metadata": {},
   "source": [
    "Import numpy"
   ]
  },
  {
   "cell_type": "code",
   "execution_count": 1,
   "id": "1a20a8e3",
   "metadata": {},
   "outputs": [],
   "source": [
    "import numpy as np\n",
    "np.set_printoptions(suppress=True)"
   ]
  },
  {
   "cell_type": "markdown",
   "id": "a3949765",
   "metadata": {},
   "source": [
    "a.\tLoad the data from the file covid_data.txt into a numpy array, covid_data. \n",
    "b.\tLoad the data from the file covid_country.txt into a numpy array, covid_country. "
   ]
  },
  {
   "cell_type": "code",
   "execution_count": 2,
   "id": "85d28202",
   "metadata": {},
   "outputs": [],
   "source": [
    "covid_data = np.loadtxt('covid_data.txt')\n",
    "covid_country = np.loadtxt('covid_country.txt', skiprows = 1, dtype='str')"
   ]
  },
  {
   "cell_type": "markdown",
   "id": "1c9237e0",
   "metadata": {},
   "source": [
    "c.\tTranspose and update the covid_data array."
   ]
  },
  {
   "cell_type": "code",
   "execution_count": 3,
   "id": "3ae2dbe9",
   "metadata": {},
   "outputs": [],
   "source": [
    "covid_data = covid_data.transpose()"
   ]
  },
  {
   "cell_type": "markdown",
   "id": "192a8532",
   "metadata": {},
   "source": [
    "d.\tCalculate and display the average cases per 1 million."
   ]
  },
  {
   "cell_type": "code",
   "execution_count": 5,
   "id": "c425104d",
   "metadata": {},
   "outputs": [
    {
     "name": "stdout",
     "output_type": "stream",
     "text": [
      "Average cases per 1 million: 3642.6453488372094\n"
     ]
    }
   ],
   "source": [
    "avg_cases = np.mean(covid_data[:,0])\n",
    "print('Average cases per 1 million:',avg_cases)"
   ]
  },
  {
   "cell_type": "markdown",
   "id": "977a4186",
   "metadata": {},
   "source": [
    "e.\tDisplay the names of the countries in Europe."
   ]
  },
  {
   "cell_type": "code",
   "execution_count": 6,
   "id": "ad130637",
   "metadata": {},
   "outputs": [
    {
     "name": "stdout",
     "output_type": "stream",
     "text": [
      "Countries in Europe: ['Russia' 'Spain' 'UK' 'Italy' 'Germany' 'France' 'Sweden' 'Ukraine'\n",
      " 'Belgium' 'Belarus' 'Romania' 'Netherlands' 'Portugal' 'Poland'\n",
      " 'Switzerland' 'Serbia' 'Moldova' 'Ireland' 'Austria' 'Czechia' 'Denmark'\n",
      " 'Bosnia_Herzegovina' 'Bulgaria' 'North_Macedonia' 'Norway' 'Finland'\n",
      " 'Luxembourg' 'Albania' 'Croatia' 'Greece' 'Hungary' 'Montenegro'\n",
      " 'Slovakia' 'Slovenia' 'Lithuania' 'Estonia' 'Iceland' 'Latvia' 'Malta'\n",
      " 'Andorra' 'San_Marino' 'Channel_Islands' 'Isle_of_Man' 'Monaco'\n",
      " 'Liechtenstein']\n"
     ]
    }
   ],
   "source": [
    "print('Countries in Europe:',covid_country[covid_country[:,1] == 'Europe'][:,0])"
   ]
  },
  {
   "cell_type": "markdown",
   "id": "81fdb7b9",
   "metadata": {},
   "source": [
    "f.\tDisplay the names of the countries with cases per 1 million over 10000."
   ]
  },
  {
   "cell_type": "code",
   "execution_count": 7,
   "id": "1d4a707f",
   "metadata": {},
   "outputs": [
    {
     "name": "stdout",
     "output_type": "stream",
     "text": [
      "Countries with over 1000 cases per 1 million:\n",
      " ['USA' 'Brazil' 'Peru' 'Chile' 'Qatar' 'Oman' 'Panama' 'Kuwait' 'Bahrain'\n",
      " 'Armenia' 'French_Guiana' 'Luxembourg' 'Mayotte' 'Andorra' 'San_Marino']\n"
     ]
    }
   ],
   "source": [
    "print('Countries with over 1000 cases per 1 million:\\n',covid_country[covid_data[:,0] > 10000][:,0])"
   ]
  },
  {
   "cell_type": "markdown",
   "id": "b0f684c7",
   "metadata": {},
   "source": [
    "g.\tCalculate and display the maximum deaths per 1 million for Asia."
   ]
  },
  {
   "cell_type": "code",
   "execution_count": 8,
   "id": "52700475",
   "metadata": {},
   "outputs": [
    {
     "name": "stdout",
     "output_type": "stream",
     "text": [
      "Maximum deaths per 1 million in Asia:  260.0\n"
     ]
    }
   ],
   "source": [
    "asia_data = covid_data[ covid_country[:,1] == 'Asia']\n",
    "max_asia_death =  np.max(asia_data[:,1])\n",
    "print( 'Maximum deaths per 1 million in Asia: ', max_asia_death)"
   ]
  },
  {
   "cell_type": "markdown",
   "id": "63e41595",
   "metadata": {},
   "source": [
    "h.\tDisplay the name of the countr(ies) with the maximum deaths per million (note: there may be more than one country with the same maximum, but they may not all be in Asia, you should only display those in Asia)."
   ]
  },
  {
   "cell_type": "code",
   "execution_count": 9,
   "id": "dd32853e",
   "metadata": {},
   "outputs": [
    {
     "name": "stdout",
     "output_type": "stream",
     "text": [
      "Country with maximum deaths per 1 million in Asia: Armenia\n"
     ]
    }
   ],
   "source": [
    "max_country = covid_country[ (covid_data[:,1] == max_asia_death) & (covid_country[:,1] == 'Asia')]\n",
    "print( 'Country with maximum deaths per 1 million in Asia:', max_country[0,0])\n"
   ]
  },
  {
   "cell_type": "markdown",
   "id": "47054ddc",
   "metadata": {},
   "source": [
    "i.\tCreate a new array, test_country, where the first column contains country names, and the second column contains the tests per 1 million. Hint: your new array should have 2 columns and 172 rows, not 172 columns and 2 rows."
   ]
  },
  {
   "cell_type": "code",
   "execution_count": 10,
   "id": "50b6138c",
   "metadata": {},
   "outputs": [],
   "source": [
    "test_country = (np.array([(covid_country[:,0]),(covid_data[:,2])])).transpose()"
   ]
  },
  {
   "cell_type": "code",
   "execution_count": null,
   "id": "b4eda91f",
   "metadata": {},
   "outputs": [],
   "source": [
    "j.\tOutput the data in test_country to a file, test_data.txt."
   ]
  },
  {
   "cell_type": "code",
   "execution_count": 11,
   "id": "f5c7a475",
   "metadata": {},
   "outputs": [],
   "source": [
    "np.savetxt('test_country.txt',test_country, fmt='%s')"
   ]
  },
  {
   "cell_type": "code",
   "execution_count": null,
   "id": "d730285d",
   "metadata": {},
   "outputs": [],
   "source": []
  }
 ],
 "metadata": {
  "kernelspec": {
   "display_name": "Python 3",
   "language": "python",
   "name": "python3"
  },
  "language_info": {
   "codemirror_mode": {
    "name": "ipython",
    "version": 3
   },
   "file_extension": ".py",
   "mimetype": "text/x-python",
   "name": "python",
   "nbconvert_exporter": "python",
   "pygments_lexer": "ipython3",
   "version": "3.8.8"
  }
 },
 "nbformat": 4,
 "nbformat_minor": 5
}
