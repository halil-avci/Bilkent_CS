{
 "cells": [
  {
   "cell_type": "markdown",
   "metadata": {},
   "source": [
    "Write a  **Python** script that does the following.  \n",
    "-  Assume you deposit 10000TL into a bank account, \n",
    "-  calculate and display the number of years it takes to double the original investment, \n",
    "-  Note: assume a yearly interest rate of 15%."
   ]
  },
  {
   "cell_type": "code",
   "execution_count": null,
   "metadata": {
    "scrolled": true
   },
   "outputs": [],
   "source": [
    "years = 0\n",
    "initial = 50000\n",
    "updated = initial\n",
    "interest = float(input('Enter interest: '))\n",
    "\n",
    "while interest <= 0:\n",
    "    print('Invalid interest, must be over zero!')\n",
    "    interest = float(input('Enter interest: '))\n",
    "\n",
    "#while initial is not doubled:\n",
    "while initial < initial * 2:\n",
    "    #add interest\n",
    "    updated = updated + updated * interest\n",
    "    #add one year to years\n",
    "    years += 1\n",
    "print(f'It will take {years} years to double your investment')"
   ]
  },
  {
   "cell_type": "code",
   "execution_count": 3,
   "metadata": {},
   "outputs": [
    {
     "name": "stdout",
     "output_type": "stream",
     "text": [
      "It will take 5 years to double your investment\n"
     ]
    }
   ],
   "source": []
  },
  {
   "cell_type": "markdown",
   "metadata": {},
   "source": [
    "In a biology **experiment** a microorganism population doubles every 10 hours. \n",
    "-  write a Python program to input the initial number of microorganisms\n",
    "-  output how long (days and remaining hours) it will take to have more than 1 million organisms."
   ]
  },
  {
   "cell_type": "code",
   "execution_count": 2,
   "metadata": {},
   "outputs": [
    {
     "name": "stdout",
     "output_type": "stream",
     "text": [
      "Enter initial population: 10000\n",
      "hours:         10 pop size:           20000\n",
      "hours:         20 pop size:           40000\n",
      "hours:         30 pop size:           80000\n",
      "hours:         40 pop size:          160000\n",
      "hours:         50 pop size:          320000\n",
      "hours:         60 pop size:          640000\n",
      "hours:         70 pop size:         1280000\n",
      "It takes 2 days and 22 hours for the population to exceed 1 million\n",
      "population is now 1280000\n"
     ]
    }
   ],
   "source": [
    "population = int(input('Enter initial population: '))\n",
    "\n",
    "hours = 0\n",
    "while population < 1000000:\n",
    "    hours += 10\n",
    "    population *= 2\n",
    "    print(f'hours: {hours:10d} pop size: {population:15d}')\n",
    "\n",
    "# how many days and hours?\n",
    "days = hours // 24\n",
    "hours = hours % 24\n",
    "# print('It takes', hours, 'hours for the population to exceed 1 million')\n",
    "print('It takes', days, 'days and', hours, 'hours for the population to exceed 1 million')\n",
    "print('population is now', population)\n"
   ]
  },
  {
   "cell_type": "markdown",
   "metadata": {},
   "source": [
    "Write a Python script that does the folowing:\n",
    "-  inputs positive integers until a negative value is input. \n",
    "-  The program should output the average of the values input.\n"
   ]
  },
  {
   "cell_type": "code",
   "execution_count": 1,
   "metadata": {},
   "outputs": [
    {
     "name": "stdout",
     "output_type": "stream",
     "text": [
      "Enter a positive value: 4\n",
      "Enter a positive value: 5\n",
      "Enter a positive value: 3\n",
      "Enter a positive value: 2\n",
      "Enter a positive value: -1\n",
      "Average: 3.5\n"
     ]
    }
   ],
   "source": [
    "num = int(input('Enter a positive value: '))\n",
    "n_sum = 0\n",
    "count = 0\n",
    "while num >= 0:\n",
    "    n_sum += num\n",
    "    count += 1\n",
    "    num = int(input('Enter a positive value: '))\n",
    "    \n",
    "if count > 0:\n",
    "    average = n_sum / count\n",
    "    print('Average:', average)\n",
    "else:\n",
    "    print('No values entered')"
   ]
  },
  {
   "cell_type": "markdown",
   "metadata": {},
   "source": [
    "Write a Python guessing game program that does the following:\n",
    "-  generate a random int between 1 and 10.  \n",
    "-  user will try to guess the number until he/she finds it. \n",
    "-  output the number of guesses made."
   ]
  },
  {
   "cell_type": "code",
   "execution_count": 3,
   "metadata": {},
   "outputs": [
    {
     "name": "stdout",
     "output_type": "stream",
     "text": [
      "Guess the number [1-10]: 8\n",
      "Wrong guess!\n",
      "Guess the number [1-10]: 6\n",
      "Congratulations, you guessed in 2 guesses.\n"
     ]
    }
   ],
   "source": [
    "import random\n",
    "\n",
    "secretNum = random.randint(1, 10)\n",
    "# print('secret number is', secretNum)   \n",
    "\n",
    "guess = int(input('Guess the number [1-10]: '))\n",
    "guessCount = 1\n",
    "while guess != secretNum:\n",
    "    print('Wrong guess!')\n",
    "    # input another guess\n",
    "    guess = int(input('Guess the number [1-10]: '))\n",
    "    guessCount += 1\n",
    "    \n",
    "print('Congratulations, you guessed in', guessCount, 'guesses.')    "
   ]
  }
 ],
 "metadata": {
  "kernelspec": {
   "display_name": "Python 3",
   "language": "python",
   "name": "python3"
  },
  "language_info": {
   "codemirror_mode": {
    "name": "ipython",
    "version": 3
   },
   "file_extension": ".py",
   "mimetype": "text/x-python",
   "name": "python",
   "nbconvert_exporter": "python",
   "pygments_lexer": "ipython3",
   "version": "3.8.3"
  }
 },
 "nbformat": 4,
 "nbformat_minor": 2
}
